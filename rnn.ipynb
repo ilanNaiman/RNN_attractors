{
 "cells": [
  {
   "cell_type": "code",
   "execution_count": 106,
   "metadata": {},
   "outputs": [],
   "source": [
    "import json\n",
    "\n",
    "\n",
    "file = 'yelp_dataset/yelp_academic_dataset_review.json'\n",
    "parsed_file = 'yelp_review_small.json'\n",
    "list_of_reviews_rate = []\n",
    "with open(file) as f:\n",
    "    with open(parsed_file, 'w') as outf:\n",
    "        for i, line in enumerate(f):\n",
    "            pl = json.loads(line)\n",
    "            json.dump({\"text\": pl[\"text\"], \"label\":pl[\"stars\"]}, outf)\n",
    "            outf.write('\\n')\n",
    "            if i==5:\n",
    "                break"
   ]
  },
  {
   "cell_type": "code",
   "execution_count": 109,
   "metadata": {
    "scrolled": true
   },
   "outputs": [
    {
     "name": "stdout",
     "output_type": "stream",
     "text": [
      "5\n"
     ]
    }
   ],
   "source": [
    "import torch   \n",
    "from torchtext import data\n",
    "\n",
    "#Reproducing same results\n",
    "SEED = 2019\n",
    "\n",
    "#Torch\n",
    "torch.manual_seed(SEED)\n",
    "\n",
    "TEXT = data.Field(tokenize='spacy',batch_first=True,include_lengths=True)\n",
    "LABEL = data.LabelField(dtype = torch.float,batch_first=True)\n",
    "datafield = {\"text\": (\"text\",TEXT),\n",
    "                     \"label\": (\"label\",LABEL)\n",
    "             }\n",
    "\n",
    "#loading custom dataset\n",
    "training_data = data.TabularDataset(path = 'yelp_review_small.json',format = 'json',fields = datafield)\n",
    "\n",
    "#print preprocessed text\n",
    "print(len(training_data.examples))\n"
   ]
  },
  {
   "cell_type": "code",
   "execution_count": 110,
   "metadata": {
    "scrolled": true
   },
   "outputs": [],
   "source": [
    "import random\n",
    "train_data, test_data = training_data.split(split_ratio=0.7, random_state = random.seed(SEED))"
   ]
  },
  {
   "cell_type": "code",
   "execution_count": 112,
   "metadata": {
    "scrolled": false
   },
   "outputs": [
    {
     "name": "stderr",
     "output_type": "stream",
     "text": [
      ".vector_cache/glove.6B.zip: 862MB [06:55, 2.07MB/s]                               \n",
      "100%|█████████▉| 399999/400000 [00:17<00:00, 23346.10it/s]\n"
     ]
    },
    {
     "name": "stdout",
     "output_type": "stream",
     "text": [
      "Size of TEXT vocabulary: 74\n",
      "Size of LABEL vocabulary: 3\n",
      "[('.', 40), ('the', 37), (',', 29), ('I', 20), ('and', 18), ('to', 18), ('a', 17), ('\"', 14), ('is', 11), ('of', 11)]\n",
      "defaultdict(<bound method Vocab._default_unk_index of <torchtext.vocab.Vocab object at 0x130b3f7d0>>, {'<unk>': 0, '<pad>': 1, '.': 2, 'the': 3, ',': 4, 'I': 5, 'and': 6, 'to': 7, 'a': 8, '\"': 9, 'for': 10, 'is': 11, 'of': 12, 'it': 13, '\\n\\n': 14, 'this': 15, 'was': 16, '\\n': 17, \"'s\": 18, 'he': 19, 'in': 20, '!': 21, '?': 22, 'my': 23, '*': 24, 'just': 25, 'with': 26, 'you': 27, 'cut': 28, 'not': 29, ';': 30, 'That': 31, 'The': 32, 'are': 33, 'around': 34, 'art': 35, 'as': 36, 'at': 37, 'but': 38, 'do': 39, 'go': 40, 'had': 41, 'have': 42, 'me': 43, 'on': 44, 'or': 45, 'that': 46, 'there': 47, 'who': 48, '(': 49, ')': 50, 'It': 51, 'When': 52, 'all': 53, 'any': 54, 'down': 55, 'from': 56, 'gallery': 57, 'hair': 58, 'haircut': 59, 'like': 60, \"n't\": 61, 'no': 62, 'out': 63, 'place': 64, 'real': 65, 'said': 66, 'should': 67, 'so': 68, 'son': 69, 'still': 70, 'tell': 71, 'up': 72, 'what': 73})\n"
     ]
    }
   ],
   "source": [
    "#initialize glove embeddings\n",
    "TEXT.build_vocab(train_data,min_freq=3,vectors = \"glove.6B.100d\")  \n",
    "LABEL.build_vocab(train_data)\n",
    "\n",
    "#No. of unique tokens in text\n",
    "print(\"Size of TEXT vocabulary:\",len(TEXT.vocab))\n",
    "\n",
    "#No. of unique tokens in label\n",
    "print(\"Size of LABEL vocabulary:\",len(LABEL.vocab))\n",
    "\n",
    "#Commonly used words\n",
    "print(TEXT.vocab.freqs.most_common(10))  \n",
    "\n",
    "#Word dictionary\n",
    "print(TEXT.vocab.stoi)  "
   ]
  },
  {
   "cell_type": "code",
   "execution_count": 113,
   "metadata": {},
   "outputs": [
    {
     "name": "stderr",
     "output_type": "stream",
     "text": [
      "/Users/ilannaiman/opt/anaconda3/envs/torchDP/lib/python3.7/site-packages/torchtext/data/iterator.py:48: UserWarning: BucketIterator class will be retired in the 0.8.0 release and moved to torchtext.legacy. Please see 0.7.0 release notes for further information.\n",
      "  warnings.warn('{} class will be retired in the 0.8.0 release and moved to torchtext.legacy. Please see 0.7.0 release notes for further information.'.format(self.__class__.__name__), UserWarning)\n"
     ]
    }
   ],
   "source": [
    "#set batch size\n",
    "BATCH_SIZE = 64\n",
    "\n",
    "#Load an iterator\n",
    "train_iterator, test_iterator = data.BucketIterator.splits(\n",
    "    (train_data, test_data), \n",
    "    batch_size = BATCH_SIZE,\n",
    "    sort_key = lambda x: len(x.text),\n",
    "    sort_within_batch=True)"
   ]
  },
  {
   "cell_type": "code",
   "execution_count": null,
   "metadata": {},
   "outputs": [],
   "source": []
  }
 ],
 "metadata": {
  "kernelspec": {
   "display_name": "Python 3",
   "language": "python",
   "name": "python3"
  },
  "language_info": {
   "codemirror_mode": {
    "name": "ipython",
    "version": 3
   },
   "file_extension": ".py",
   "mimetype": "text/x-python",
   "name": "python",
   "nbconvert_exporter": "python",
   "pygments_lexer": "ipython3",
   "version": "3.7.9"
  }
 },
 "nbformat": 4,
 "nbformat_minor": 4
}
